{
 "cells": [
  {
   "cell_type": "markdown",
   "id": "c6a585c7",
   "metadata": {},
   "source": [
    "# Pandas\n",
    "파이썬에서 사용하는 데이터 분석 라이브러리"
   ]
  },
  {
   "cell_type": "code",
   "execution_count": 1,
   "id": "da7aaf4a",
   "metadata": {},
   "outputs": [],
   "source": [
    "import pandas as pd"
   ]
  },
  {
   "cell_type": "markdown",
   "id": "353a007d",
   "metadata": {},
   "source": [
    "# 1. Series\n",
    "1차원 데이터 (정수, 실수, 문자열 등)"
   ]
  },
  {
   "cell_type": "markdown",
   "id": "b7d4ea1a",
   "metadata": {},
   "source": [
    "## Series 객체 생성\n",
    "예) 1월부터 4월까지 평균 온도 데이터(-20, -10, 10, 20)"
   ]
  },
  {
   "cell_type": "code",
   "execution_count": 2,
   "id": "39f806bd",
   "metadata": {},
   "outputs": [
    {
     "data": {
      "text/plain": [
       "0   -20\n",
       "1   -10\n",
       "2    10\n",
       "3    20\n",
       "dtype: int64"
      ]
     },
     "execution_count": 2,
     "metadata": {},
     "output_type": "execute_result"
    }
   ],
   "source": [
    "temp = pd.Series([-20, -10, 10, 20])\n",
    "temp"
   ]
  },
  {
   "cell_type": "code",
   "execution_count": 3,
   "id": "9281816b",
   "metadata": {},
   "outputs": [
    {
     "data": {
      "text/plain": [
       "-20"
      ]
     },
     "execution_count": 3,
     "metadata": {},
     "output_type": "execute_result"
    }
   ],
   "source": [
    "temp[0]"
   ]
  },
  {
   "cell_type": "code",
   "execution_count": 4,
   "id": "316f09f6",
   "metadata": {},
   "outputs": [
    {
     "data": {
      "text/plain": [
       "10"
      ]
     },
     "execution_count": 4,
     "metadata": {},
     "output_type": "execute_result"
    }
   ],
   "source": [
    "temp[2]"
   ]
  },
  {
   "cell_type": "markdown",
   "id": "87c332b4",
   "metadata": {},
   "source": [
    "# Series 객체 생성(Index 지정)"
   ]
  },
  {
   "cell_type": "code",
   "execution_count": 5,
   "id": "2fe786ec",
   "metadata": {},
   "outputs": [
    {
     "name": "stdout",
     "output_type": "stream",
     "text": [
      "One     -20\n",
      "Two     -10\n",
      "Three    10\n",
      "Four     20\n",
      "dtype: int64\n"
     ]
    }
   ],
   "source": [
    "temp = pd.Series([-20, -10, 10, 20], index=['One', 'Two', \"Three\", \"Four\"])\n",
    "print(temp)"
   ]
  },
  {
   "cell_type": "code",
   "execution_count": 6,
   "id": "c309dc14",
   "metadata": {},
   "outputs": [
    {
     "data": {
      "text/plain": [
       "-20"
      ]
     },
     "execution_count": 6,
     "metadata": {},
     "output_type": "execute_result"
    }
   ],
   "source": [
    "temp['One']"
   ]
  },
  {
   "cell_type": "code",
   "execution_count": 7,
   "id": "71e2ae07",
   "metadata": {},
   "outputs": [
    {
     "data": {
      "text/plain": [
       "20"
      ]
     },
     "execution_count": 7,
     "metadata": {},
     "output_type": "execute_result"
    }
   ],
   "source": [
    "temp['Four']"
   ]
  },
  {
   "cell_type": "code",
   "execution_count": 8,
   "id": "9b4292c9",
   "metadata": {},
   "outputs": [],
   "source": [
    "# temp['Five']"
   ]
  },
  {
   "cell_type": "code",
   "execution_count": 9,
   "id": "f2bbc0a0",
   "metadata": {
    "scrolled": true
   },
   "outputs": [
    {
     "data": {
      "text/plain": [
       "array([-20, -10,  10,  20], dtype=int64)"
      ]
     },
     "execution_count": 9,
     "metadata": {},
     "output_type": "execute_result"
    }
   ],
   "source": [
    "temp.values"
   ]
  },
  {
   "cell_type": "code",
   "execution_count": 10,
   "id": "5455a19c",
   "metadata": {},
   "outputs": [
    {
     "data": {
      "text/plain": [
       "Index(['One', 'Two', 'Three', 'Four'], dtype='object')"
      ]
     },
     "execution_count": 10,
     "metadata": {},
     "output_type": "execute_result"
    }
   ],
   "source": [
    "temp.index"
   ]
  },
  {
   "cell_type": "code",
   "execution_count": 11,
   "id": "17e5cab3",
   "metadata": {
    "scrolled": true
   },
   "outputs": [
    {
     "data": {
      "text/plain": [
       "One    -20\n",
       "Four    20\n",
       "dtype: int64"
      ]
     },
     "execution_count": 11,
     "metadata": {},
     "output_type": "execute_result"
    }
   ],
   "source": [
    "temp[['One', 'Four']]"
   ]
  },
  {
   "cell_type": "code",
   "execution_count": 12,
   "id": "cfb4eeb6",
   "metadata": {},
   "outputs": [
    {
     "data": {
      "text/plain": [
       "One     -40\n",
       "Two     -20\n",
       "Three    20\n",
       "Four     40\n",
       "dtype: int64"
      ]
     },
     "execution_count": 12,
     "metadata": {},
     "output_type": "execute_result"
    }
   ],
   "source": [
    "temp * 2"
   ]
  },
  {
   "cell_type": "code",
   "execution_count": 13,
   "id": "34ad2236",
   "metadata": {},
   "outputs": [
    {
     "name": "stderr",
     "output_type": "stream",
     "text": [
      "C:\\Users\\Woo\\AppData\\Local\\Temp/ipykernel_8284/1472399127.py:2: FutureWarning: elementwise comparison failed; returning scalar instead, but in the future will perform elementwise comparison\n",
      "  '10' in temp.values\n"
     ]
    },
    {
     "data": {
      "text/plain": [
       "False"
      ]
     },
     "execution_count": 13,
     "metadata": {},
     "output_type": "execute_result"
    }
   ],
   "source": [
    "'One' in temp\n",
    "'10' in temp.values"
   ]
  },
  {
   "cell_type": "code",
   "execution_count": 14,
   "id": "5cd28bfb",
   "metadata": {},
   "outputs": [
    {
     "data": {
      "text/plain": [
       "True"
      ]
     },
     "execution_count": 14,
     "metadata": {},
     "output_type": "execute_result"
    }
   ],
   "source": [
    "'One' in temp\n",
    "10 in temp.values"
   ]
  },
  {
   "cell_type": "code",
   "execution_count": 15,
   "id": "7417695a",
   "metadata": {},
   "outputs": [
    {
     "data": {
      "text/plain": [
       "True"
      ]
     },
     "execution_count": 15,
     "metadata": {},
     "output_type": "execute_result"
    }
   ],
   "source": [
    "'One' in temp"
   ]
  },
  {
   "cell_type": "code",
   "execution_count": 16,
   "id": "ccc92434",
   "metadata": {},
   "outputs": [
    {
     "data": {
      "text/plain": [
       "True"
      ]
     },
     "execution_count": 16,
     "metadata": {},
     "output_type": "execute_result"
    }
   ],
   "source": [
    "10 in temp.values"
   ]
  },
  {
   "cell_type": "code",
   "execution_count": 17,
   "id": "89849a04",
   "metadata": {},
   "outputs": [
    {
     "data": {
      "text/plain": [
       "hi           10\n",
       "hello        20\n",
       "guten_tag    30\n",
       "dtype: int64"
      ]
     },
     "execution_count": 17,
     "metadata": {},
     "output_type": "execute_result"
    }
   ],
   "source": [
    "data = {'hi': 10, 'hello': 20, 'guten_tag': 30}\n",
    "obj = pd.Series(data)\n",
    "obj"
   ]
  },
  {
   "cell_type": "code",
   "execution_count": 18,
   "id": "bbb8181a",
   "metadata": {},
   "outputs": [
    {
     "data": {
      "text/plain": [
       "10"
      ]
     },
     "execution_count": 18,
     "metadata": {},
     "output_type": "execute_result"
    }
   ],
   "source": [
    "obj['hi']"
   ]
  },
  {
   "cell_type": "code",
   "execution_count": 19,
   "id": "2bc53e61",
   "metadata": {},
   "outputs": [
    {
     "data": {
      "text/plain": [
       "array([10, 20, 30], dtype=int64)"
      ]
     },
     "execution_count": 19,
     "metadata": {},
     "output_type": "execute_result"
    }
   ],
   "source": [
    "obj.values"
   ]
  },
  {
   "cell_type": "code",
   "execution_count": 20,
   "id": "1506d940",
   "metadata": {},
   "outputs": [
    {
     "data": {
      "text/plain": [
       "Index(['hi', 'hello', 'guten_tag'], dtype='object')"
      ]
     },
     "execution_count": 20,
     "metadata": {},
     "output_type": "execute_result"
    }
   ],
   "source": [
    "obj.index"
   ]
  },
  {
   "cell_type": "code",
   "execution_count": 21,
   "id": "75c921c6",
   "metadata": {},
   "outputs": [
    {
     "data": {
      "text/plain": [
       "woo    NaN\n",
       "park   NaN\n",
       "ryu    NaN\n",
       "kang   NaN\n",
       "dtype: float64"
      ]
     },
     "execution_count": 21,
     "metadata": {},
     "output_type": "execute_result"
    }
   ],
   "source": [
    "data = {'hi': 10, 'hello': 20, 'guten_tag': 30}\n",
    "name = ['woo', 'park', 'ryu', 'kang']\n",
    "obj = pd.Series(data, index= name)\n",
    "obj"
   ]
  },
  {
   "cell_type": "code",
   "execution_count": 22,
   "id": "8745f43d",
   "metadata": {},
   "outputs": [
    {
     "data": {
      "text/plain": [
       "hello        20\n",
       "guten_tag    30\n",
       "hi           10\n",
       "dtype: int64"
      ]
     },
     "execution_count": 22,
     "metadata": {},
     "output_type": "execute_result"
    }
   ],
   "source": [
    "name = ['hello', 'guten_tag', 'hi']\n",
    "obj = pd.Series(data, index= name)\n",
    "obj"
   ]
  },
  {
   "cell_type": "code",
   "execution_count": 23,
   "id": "9d5ef141",
   "metadata": {},
   "outputs": [
    {
     "data": {
      "text/plain": [
       "hello        20.0\n",
       "guten_tag    30.0\n",
       "hi           10.0\n",
       "안녕            NaN\n",
       "dtype: float64"
      ]
     },
     "execution_count": 23,
     "metadata": {},
     "output_type": "execute_result"
    }
   ],
   "source": [
    "data = {'hi': 10, 'hello': 20, 'guten_tag': 30}\n",
    "index_data = ['hello', 'guten_tag', 'hi', '안녕']\n",
    "obj = pd.Series(data, index= index_data)\n",
    "obj"
   ]
  },
  {
   "cell_type": "code",
   "execution_count": 24,
   "id": "ed02cfbc",
   "metadata": {},
   "outputs": [
    {
     "data": {
      "text/plain": [
       "hello        False\n",
       "guten_tag    False\n",
       "hi           False\n",
       "안녕            True\n",
       "dtype: bool"
      ]
     },
     "execution_count": 24,
     "metadata": {},
     "output_type": "execute_result"
    }
   ],
   "source": [
    "pd.isnull(obj)"
   ]
  },
  {
   "cell_type": "code",
   "execution_count": 25,
   "id": "9eeca4e6",
   "metadata": {},
   "outputs": [
    {
     "data": {
      "text/plain": [
       "hello         True\n",
       "guten_tag     True\n",
       "hi            True\n",
       "안녕           False\n",
       "dtype: bool"
      ]
     },
     "execution_count": 25,
     "metadata": {},
     "output_type": "execute_result"
    }
   ],
   "source": [
    "pd.notnull(obj)"
   ]
  },
  {
   "cell_type": "code",
   "execution_count": 26,
   "id": "d78588e4",
   "metadata": {},
   "outputs": [
    {
     "data": {
      "text/plain": [
       "Four        NaN\n",
       "One         NaN\n",
       "Three       NaN\n",
       "Two         NaN\n",
       "guten_tag   NaN\n",
       "hello       NaN\n",
       "hi          NaN\n",
       "안녕          NaN\n",
       "dtype: float64"
      ]
     },
     "execution_count": 26,
     "metadata": {},
     "output_type": "execute_result"
    }
   ],
   "source": [
    "temp + obj"
   ]
  },
  {
   "cell_type": "code",
   "execution_count": 27,
   "id": "a16ab68d",
   "metadata": {},
   "outputs": [
    {
     "data": {
      "text/plain": [
       "hello        20.0\n",
       "guten_tag    30.0\n",
       "hi           10.0\n",
       "안녕            NaN\n",
       "dtype: float64"
      ]
     },
     "execution_count": 27,
     "metadata": {},
     "output_type": "execute_result"
    }
   ],
   "source": [
    "obj"
   ]
  },
  {
   "cell_type": "code",
   "execution_count": 28,
   "id": "83247cf7",
   "metadata": {},
   "outputs": [
    {
     "data": {
      "text/plain": [
       "One     -20\n",
       "Two     -10\n",
       "Three    10\n",
       "Four     20\n",
       "dtype: int64"
      ]
     },
     "execution_count": 28,
     "metadata": {},
     "output_type": "execute_result"
    }
   ],
   "source": [
    "temp"
   ]
  },
  {
   "cell_type": "code",
   "execution_count": 29,
   "id": "e8cfab4e",
   "metadata": {},
   "outputs": [
    {
     "data": {
      "text/plain": [
       "One     -20\n",
       "Two     -10\n",
       "Three    10\n",
       "Four     20\n",
       "Name: num, dtype: int64"
      ]
     },
     "execution_count": 29,
     "metadata": {},
     "output_type": "execute_result"
    }
   ],
   "source": [
    "temp.name = 'num'\n",
    "temp"
   ]
  },
  {
   "cell_type": "code",
   "execution_count": 30,
   "id": "da8f3972",
   "metadata": {},
   "outputs": [
    {
     "data": {
      "text/plain": [
       "Count\n",
       "One     -20\n",
       "Two     -10\n",
       "Three    10\n",
       "Four     20\n",
       "Name: num, dtype: int64"
      ]
     },
     "execution_count": 30,
     "metadata": {},
     "output_type": "execute_result"
    }
   ],
   "source": [
    "temp.index.name = 'Count'\n",
    "temp"
   ]
  },
  {
   "cell_type": "code",
   "execution_count": 31,
   "id": "e1b4919b",
   "metadata": {},
   "outputs": [],
   "source": [
    "temp.name = 'num'"
   ]
  },
  {
   "cell_type": "code",
   "execution_count": 32,
   "id": "f900e446",
   "metadata": {},
   "outputs": [
    {
     "data": {
      "text/plain": [
       "Count\n",
       "One     -20\n",
       "Two     -10\n",
       "Three    10\n",
       "Four     20\n",
       "Name: num, dtype: int64"
      ]
     },
     "execution_count": 32,
     "metadata": {},
     "output_type": "execute_result"
    }
   ],
   "source": [
    "temp"
   ]
  },
  {
   "cell_type": "code",
   "execution_count": 33,
   "id": "87920564",
   "metadata": {},
   "outputs": [
    {
     "data": {
      "text/plain": [
       "인사\n",
       "hello        20.0\n",
       "guten_tag    30.0\n",
       "hi           10.0\n",
       "안녕            NaN\n",
       "Name: 데이터, dtype: float64"
      ]
     },
     "execution_count": 33,
     "metadata": {},
     "output_type": "execute_result"
    }
   ],
   "source": [
    "obj.index.name = '인사'\n",
    "obj.name = '데이터'\n",
    "obj"
   ]
  },
  {
   "cell_type": "code",
   "execution_count": 34,
   "id": "a95b37a7",
   "metadata": {},
   "outputs": [
    {
     "data": {
      "text/plain": [
       "pandas.core.series.Series"
      ]
     },
     "execution_count": 34,
     "metadata": {},
     "output_type": "execute_result"
    }
   ],
   "source": [
    "type(obj)"
   ]
  },
  {
   "cell_type": "code",
   "execution_count": 35,
   "id": "cd8250d6",
   "metadata": {},
   "outputs": [
    {
     "data": {
      "text/plain": [
       "pandas.core.series.Series"
      ]
     },
     "execution_count": 35,
     "metadata": {},
     "output_type": "execute_result"
    }
   ],
   "source": [
    "type(temp)"
   ]
  },
  {
   "cell_type": "code",
   "execution_count": null,
   "id": "3318ace2",
   "metadata": {},
   "outputs": [],
   "source": []
  }
 ],
 "metadata": {
  "kernelspec": {
   "display_name": "Python 3 (ipykernel)",
   "language": "python",
   "name": "python3"
  },
  "language_info": {
   "codemirror_mode": {
    "name": "ipython",
    "version": 3
   },
   "file_extension": ".py",
   "mimetype": "text/x-python",
   "name": "python",
   "nbconvert_exporter": "python",
   "pygments_lexer": "ipython3",
   "version": "3.9.7"
  }
 },
 "nbformat": 4,
 "nbformat_minor": 5
}
